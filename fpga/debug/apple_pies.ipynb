{
 "cells": [
  {
   "cell_type": "code",
   "execution_count": 3,
   "metadata": {},
   "outputs": [
    {
     "name": "stdout",
     "output_type": "stream",
     "text": [
      "\r\n",
      "\r\n",
      "First operand: α^2(2.3 - 1η^1 + 1η^2)\r\n",
      "Second operand: α^1(2 - 3η^1 + 0.5η^2)\r\n",
      "\r\n",
      "Sum: α^2(2.3 + 1η^1 - 2η^2)\r\n",
      "Product: α^3(4.6 - 8.9η^1 + 6.15η^2)\r\n",
      "Division: α^1(1.15 + 1.225η^1 + 2.05η^2)\r\n",
      "\r\n",
      "\r\n"
     ]
    }
   ],
   "source": [
    "!./apple_pies.exe"
   ]
  }
 ],
 "metadata": {
  "kernelspec": {
   "display_name": "Python 3",
   "language": "python",
   "name": "python3"
  },
  "language_info": {
   "codemirror_mode": {
    "name": "ipython",
    "version": 3
   },
   "file_extension": ".py",
   "mimetype": "text/x-python",
   "name": "python",
   "nbconvert_exporter": "python",
   "pygments_lexer": "ipython3",
   "version": "3.7.3"
  }
 },
 "nbformat": 4,
 "nbformat_minor": 2
}
